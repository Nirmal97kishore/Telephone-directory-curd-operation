{
 "cells": [
  {
   "cell_type": "code",
   "execution_count": null,
   "id": "5a4f4033",
   "metadata": {},
   "outputs": [],
   "source": [
    "!pip install pymongo\n",
    "!pip install nbconvert"
   ]
  },
  {
   "cell_type": "code",
   "execution_count": null,
   "id": "62544a91",
   "metadata": {},
   "outputs": [],
   "source": [
    "import pymongo"
   ]
  },
  {
   "cell_type": "code",
   "execution_count": null,
   "id": "37af8bfe",
   "metadata": {},
   "outputs": [],
   "source": [
    "client=pymongo.MongoClient(\"mongodb://localhost:27017\")"
   ]
  },
  {
   "cell_type": "code",
   "execution_count": null,
   "id": "e0402096",
   "metadata": {},
   "outputs": [],
   "source": [
    "mydbs=client[\"Telephone_Directory\"]"
   ]
  },
  {
   "cell_type": "code",
   "execution_count": null,
   "id": "a704fd88",
   "metadata": {},
   "outputs": [],
   "source": [
    "mycol=mydbs[\"Client\"]"
   ]
  },
  {
   "cell_type": "code",
   "execution_count": null,
   "id": "7ddf5fed",
   "metadata": {},
   "outputs": [],
   "source": [
    "mydoc=mylist = [\n",
    "  { \"name\": \"Amy\", \"address\": \"Apple st 652\",\"Number\":\"7708401047\"},\n",
    "  { \"name\": \"Hannah\", \"address\": \"Mountain 21\",\"Number\":\"8808401047\"},\n",
    "  { \"name\": \"Michael\", \"address\": \"Valley 345\",\"Number\":\"8858401047\"},\n",
    "  { \"name\": \"Sandy\", \"address\": \"Ocean blvd 2\",\"Number\":\"9998401047\"},\n",
    "  { \"name\": \"Betty\", \"address\": \"Green Grass 1\",\"Number\":\"8899401047\"},\n",
    "  { \"name\": \"Richard\", \"address\": \"Sky st 331\",\"Number\":\"6677401047\"},\n",
    "  { \"name\": \"Susan\", \"address\": \"One way 98\",\"Number\":\"8787401047\"},\n",
    "  { \"name\": \"Vicky\", \"address\": \"Yellow Garden 2\",\"Number\":\"7708401234\"},\n",
    "  { \"name\": \"Ben\", \"address\": \"Park Lane 38\",\"Number\":\"7708401048\"},\n",
    "  { \"name\": \"William\", \"address\": \"Central st 954\",\"Number\":\"7708401857\"},\n",
    "  { \"name\": \"Chuck\", \"address\": \"Main Road 989\",\"Number\":\"7708401041\"},\n",
    "  { \"name\": \"Viola\", \"address\": \"Sideway 1633\",\"Number\":\"7708581047\"}\n",
    "]"
   ]
  },
  {
   "cell_type": "code",
   "execution_count": null,
   "id": "44d0e8b4",
   "metadata": {
    "scrolled": true
   },
   "outputs": [],
   "source": [
    "x=mycol.insert_many(mydoc)\n",
    "\n"
   ]
  },
  {
   "cell_type": "code",
   "execution_count": 77,
   "id": "9eee6e1d",
   "metadata": {},
   "outputs": [],
   "source": [
    "curser=mydbs.Client.find({})"
   ]
  },
  {
   "cell_type": "code",
   "execution_count": 78,
   "id": "6404f307",
   "metadata": {
    "scrolled": true
   },
   "outputs": [
    {
     "name": "stdout",
     "output_type": "stream",
     "text": [
      "<pymongo.cursor.Cursor object at 0x0000027E16D14E50>\n",
      "<pymongo.cursor.Cursor object at 0x0000027E16D14E50>\n",
      "<pymongo.cursor.Cursor object at 0x0000027E16D14E50>\n",
      "<pymongo.cursor.Cursor object at 0x0000027E16D14E50>\n",
      "<pymongo.cursor.Cursor object at 0x0000027E16D14E50>\n",
      "<pymongo.cursor.Cursor object at 0x0000027E16D14E50>\n",
      "<pymongo.cursor.Cursor object at 0x0000027E16D14E50>\n",
      "<pymongo.cursor.Cursor object at 0x0000027E16D14E50>\n",
      "<pymongo.cursor.Cursor object at 0x0000027E16D14E50>\n",
      "<pymongo.cursor.Cursor object at 0x0000027E16D14E50>\n",
      "<pymongo.cursor.Cursor object at 0x0000027E16D14E50>\n",
      "<pymongo.cursor.Cursor object at 0x0000027E16D14E50>\n"
     ]
    }
   ],
   "source": [
    "for doc in curser:\n",
    "    print(curser)"
   ]
  },
  {
   "cell_type": "code",
   "execution_count": 52,
   "id": "6f9a25d7",
   "metadata": {},
   "outputs": [
    {
     "name": "stdout",
     "output_type": "stream",
     "text": [
      "{'_id': ObjectId('638633ac02b374f609404a54'), 'name': 'Amy', 'address': '28 boston usa', 'Number': '7708401047'}\n"
     ]
    }
   ],
   "source": [
    "one_record=mycol.find_one()\n",
    "print(one_record)"
   ]
  },
  {
   "cell_type": "code",
   "execution_count": 53,
   "id": "dc82d282",
   "metadata": {},
   "outputs": [],
   "source": [
    "# update_one() updating exsisting document\n",
    "\n",
    "h=mycol.update_one({\"name\":\"Amy\"},{\"$set\":{\"address\":\"15-west street Canada\"}})"
   ]
  },
  {
   "cell_type": "code",
   "execution_count": 54,
   "id": "9be263d1",
   "metadata": {},
   "outputs": [],
   "source": [
    "updated_document=mycol.find_one()"
   ]
  },
  {
   "cell_type": "code",
   "execution_count": 55,
   "id": "d87d0ea4",
   "metadata": {},
   "outputs": [
    {
     "name": "stdout",
     "output_type": "stream",
     "text": [
      "{'_id': ObjectId('638633ac02b374f609404a54'), 'name': 'Amy', 'address': '15-west street Canada', 'Number': '7708401047'}\n"
     ]
    }
   ],
   "source": [
    "print(updated_document)"
   ]
  },
  {
   "cell_type": "code",
   "execution_count": 79,
   "id": "d34fe5f3",
   "metadata": {},
   "outputs": [],
   "source": [
    "#delete_one()\n",
    "\n",
    "d=mycol.find_one({\"name\":\"Sandy\"})"
   ]
  },
  {
   "cell_type": "code",
   "execution_count": 80,
   "id": "809a372f",
   "metadata": {},
   "outputs": [
    {
     "name": "stdout",
     "output_type": "stream",
     "text": [
      "{'_id': ObjectId('638633ac02b374f609404a57'), 'name': 'Sandy', 'address': 'Ocean blvd 2', 'Number': '9998401047'}\n"
     ]
    }
   ],
   "source": [
    "print(d)"
   ]
  },
  {
   "cell_type": "code",
   "execution_count": 81,
   "id": "0df784f0",
   "metadata": {},
   "outputs": [],
   "source": [
    "d_=mycol.delete_one({\"name\":\"Sandy\"})"
   ]
  },
  {
   "cell_type": "code",
   "execution_count": 82,
   "id": "18a36122",
   "metadata": {},
   "outputs": [
    {
     "name": "stdout",
     "output_type": "stream",
     "text": [
      "<pymongo.results.DeleteResult object at 0x0000027E16D5B340>\n"
     ]
    }
   ],
   "source": [
    "print(d_)"
   ]
  },
  {
   "cell_type": "code",
   "execution_count": 83,
   "id": "2ab413c5",
   "metadata": {},
   "outputs": [
    {
     "name": "stdout",
     "output_type": "stream",
     "text": [
      "None\n"
     ]
    }
   ],
   "source": [
    "# to check that deleted doc\n",
    "d1=mycol.find_one({\"name\":\"Sandy\"})\n",
    "print(d1)"
   ]
  }
 ],
 "metadata": {
  "kernelspec": {
   "display_name": "Python 3 (ipykernel)",
   "language": "python",
   "name": "python3"
  },
  "language_info": {
   "codemirror_mode": {
    "name": "ipython",
    "version": 3
   },
   "file_extension": ".py",
   "mimetype": "text/x-python",
   "name": "python",
   "nbconvert_exporter": "python",
   "pygments_lexer": "ipython3",
   "version": "3.9.13"
  }
 },
 "nbformat": 4,
 "nbformat_minor": 5
}
